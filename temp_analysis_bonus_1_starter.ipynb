{
 "cells": [
  {
   "cell_type": "markdown",
   "metadata": {},
   "source": [
    "# Bonus: Temperature Analysis I"
   ]
  },
  {
   "cell_type": "code",
   "execution_count": 1,
   "metadata": {},
   "outputs": [],
   "source": [
    "import pandas as pd\n",
    "from datetime import datetime as dt"
   ]
  },
  {
   "cell_type": "code",
   "execution_count": 2,
   "metadata": {},
   "outputs": [
    {
     "output_type": "execute_result",
     "data": {
      "text/plain": [
       "       station        date  prcp  tobs\n",
       "0  USC00519397  2010-01-01  0.08    65\n",
       "1  USC00519397  2010-01-02  0.00    63\n",
       "2  USC00519397  2010-01-03  0.00    74\n",
       "3  USC00519397  2010-01-04  0.00    76\n",
       "4  USC00519397  2010-01-06   NaN    73"
      ],
      "text/html": "<div>\n<style scoped>\n    .dataframe tbody tr th:only-of-type {\n        vertical-align: middle;\n    }\n\n    .dataframe tbody tr th {\n        vertical-align: top;\n    }\n\n    .dataframe thead th {\n        text-align: right;\n    }\n</style>\n<table border=\"1\" class=\"dataframe\">\n  <thead>\n    <tr style=\"text-align: right;\">\n      <th></th>\n      <th>station</th>\n      <th>date</th>\n      <th>prcp</th>\n      <th>tobs</th>\n    </tr>\n  </thead>\n  <tbody>\n    <tr>\n      <th>0</th>\n      <td>USC00519397</td>\n      <td>2010-01-01</td>\n      <td>0.08</td>\n      <td>65</td>\n    </tr>\n    <tr>\n      <th>1</th>\n      <td>USC00519397</td>\n      <td>2010-01-02</td>\n      <td>0.00</td>\n      <td>63</td>\n    </tr>\n    <tr>\n      <th>2</th>\n      <td>USC00519397</td>\n      <td>2010-01-03</td>\n      <td>0.00</td>\n      <td>74</td>\n    </tr>\n    <tr>\n      <th>3</th>\n      <td>USC00519397</td>\n      <td>2010-01-04</td>\n      <td>0.00</td>\n      <td>76</td>\n    </tr>\n    <tr>\n      <th>4</th>\n      <td>USC00519397</td>\n      <td>2010-01-06</td>\n      <td>NaN</td>\n      <td>73</td>\n    </tr>\n  </tbody>\n</table>\n</div>"
     },
     "metadata": {},
     "execution_count": 2
    }
   ],
   "source": [
    "# \"tobs\" is \"temperature observations\"\n",
    "hawaii_df = pd.read_csv('Resources/hawaii_measurements.csv')\n",
    "hawaii_df.head()"
   ]
  },
  {
   "cell_type": "code",
   "execution_count": 3,
   "metadata": {},
   "outputs": [
    {
     "output_type": "execute_result",
     "data": {
      "text/plain": [
       "       station       date  prcp  tobs\n",
       "0  USC00519397 2010-01-01  0.08    65\n",
       "1  USC00519397 2010-01-02  0.00    63\n",
       "2  USC00519397 2010-01-03  0.00    74\n",
       "3  USC00519397 2010-01-04  0.00    76\n",
       "4  USC00519397 2010-01-06   NaN    73"
      ],
      "text/html": "<div>\n<style scoped>\n    .dataframe tbody tr th:only-of-type {\n        vertical-align: middle;\n    }\n\n    .dataframe tbody tr th {\n        vertical-align: top;\n    }\n\n    .dataframe thead th {\n        text-align: right;\n    }\n</style>\n<table border=\"1\" class=\"dataframe\">\n  <thead>\n    <tr style=\"text-align: right;\">\n      <th></th>\n      <th>station</th>\n      <th>date</th>\n      <th>prcp</th>\n      <th>tobs</th>\n    </tr>\n  </thead>\n  <tbody>\n    <tr>\n      <th>0</th>\n      <td>USC00519397</td>\n      <td>2010-01-01</td>\n      <td>0.08</td>\n      <td>65</td>\n    </tr>\n    <tr>\n      <th>1</th>\n      <td>USC00519397</td>\n      <td>2010-01-02</td>\n      <td>0.00</td>\n      <td>63</td>\n    </tr>\n    <tr>\n      <th>2</th>\n      <td>USC00519397</td>\n      <td>2010-01-03</td>\n      <td>0.00</td>\n      <td>74</td>\n    </tr>\n    <tr>\n      <th>3</th>\n      <td>USC00519397</td>\n      <td>2010-01-04</td>\n      <td>0.00</td>\n      <td>76</td>\n    </tr>\n    <tr>\n      <th>4</th>\n      <td>USC00519397</td>\n      <td>2010-01-06</td>\n      <td>NaN</td>\n      <td>73</td>\n    </tr>\n  </tbody>\n</table>\n</div>"
     },
     "metadata": {},
     "execution_count": 3
    }
   ],
   "source": [
    "# Convert the date column format from string to datetime\n",
    "hawaii_df['date']= pd.to_datetime(hawaii_df['date'])\n",
    "hawaii_df.head()"
   ]
  },
  {
   "cell_type": "code",
   "execution_count": 4,
   "metadata": {},
   "outputs": [
    {
     "output_type": "execute_result",
     "data": {
      "text/plain": [
       "                station  prcp  tobs\n",
       "date                               \n",
       "2010-01-01  USC00519397  0.08    65\n",
       "2010-01-02  USC00519397  0.00    63\n",
       "2010-01-03  USC00519397  0.00    74\n",
       "2010-01-04  USC00519397  0.00    76\n",
       "2010-01-06  USC00519397   NaN    73"
      ],
      "text/html": "<div>\n<style scoped>\n    .dataframe tbody tr th:only-of-type {\n        vertical-align: middle;\n    }\n\n    .dataframe tbody tr th {\n        vertical-align: top;\n    }\n\n    .dataframe thead th {\n        text-align: right;\n    }\n</style>\n<table border=\"1\" class=\"dataframe\">\n  <thead>\n    <tr style=\"text-align: right;\">\n      <th></th>\n      <th>station</th>\n      <th>prcp</th>\n      <th>tobs</th>\n    </tr>\n    <tr>\n      <th>date</th>\n      <th></th>\n      <th></th>\n      <th></th>\n    </tr>\n  </thead>\n  <tbody>\n    <tr>\n      <th>2010-01-01</th>\n      <td>USC00519397</td>\n      <td>0.08</td>\n      <td>65</td>\n    </tr>\n    <tr>\n      <th>2010-01-02</th>\n      <td>USC00519397</td>\n      <td>0.00</td>\n      <td>63</td>\n    </tr>\n    <tr>\n      <th>2010-01-03</th>\n      <td>USC00519397</td>\n      <td>0.00</td>\n      <td>74</td>\n    </tr>\n    <tr>\n      <th>2010-01-04</th>\n      <td>USC00519397</td>\n      <td>0.00</td>\n      <td>76</td>\n    </tr>\n    <tr>\n      <th>2010-01-06</th>\n      <td>USC00519397</td>\n      <td>NaN</td>\n      <td>73</td>\n    </tr>\n  </tbody>\n</table>\n</div>"
     },
     "metadata": {},
     "execution_count": 4
    }
   ],
   "source": [
    "# Set the date column as the DataFrame index\n",
    "hawaii_df = hawaii_df.set_index(\"date\")\n",
    "hawaii_df.head()"
   ]
  },
  {
   "cell_type": "code",
   "execution_count": 5,
   "metadata": {},
   "outputs": [
    {
     "output_type": "execute_result",
     "data": {
      "text/plain": [
       "       station  prcp  tobs\n",
       "0  USC00519397  0.08    65\n",
       "1  USC00519397  0.00    63\n",
       "2  USC00519397  0.00    74\n",
       "3  USC00519397  0.00    76\n",
       "4  USC00519397   NaN    73"
      ],
      "text/html": "<div>\n<style scoped>\n    .dataframe tbody tr th:only-of-type {\n        vertical-align: middle;\n    }\n\n    .dataframe tbody tr th {\n        vertical-align: top;\n    }\n\n    .dataframe thead th {\n        text-align: right;\n    }\n</style>\n<table border=\"1\" class=\"dataframe\">\n  <thead>\n    <tr style=\"text-align: right;\">\n      <th></th>\n      <th>station</th>\n      <th>prcp</th>\n      <th>tobs</th>\n    </tr>\n  </thead>\n  <tbody>\n    <tr>\n      <th>0</th>\n      <td>USC00519397</td>\n      <td>0.08</td>\n      <td>65</td>\n    </tr>\n    <tr>\n      <th>1</th>\n      <td>USC00519397</td>\n      <td>0.00</td>\n      <td>63</td>\n    </tr>\n    <tr>\n      <th>2</th>\n      <td>USC00519397</td>\n      <td>0.00</td>\n      <td>74</td>\n    </tr>\n    <tr>\n      <th>3</th>\n      <td>USC00519397</td>\n      <td>0.00</td>\n      <td>76</td>\n    </tr>\n    <tr>\n      <th>4</th>\n      <td>USC00519397</td>\n      <td>NaN</td>\n      <td>73</td>\n    </tr>\n  </tbody>\n</table>\n</div>"
     },
     "metadata": {},
     "execution_count": 5
    }
   ],
   "source": [
    "# Drop the date column\n",
    "hawaii_clean_df = hawaii_df.reset_index(drop=True)\n",
    "hawaii_clean_df.head()"
   ]
  },
  {
   "cell_type": "markdown",
   "metadata": {},
   "source": [
    "### Compare June and December data across all years "
   ]
  },
  {
   "cell_type": "code",
   "execution_count": 6,
   "metadata": {},
   "outputs": [],
   "source": [
    "from scipy import stats"
   ]
  },
  {
   "cell_type": "code",
   "execution_count": 7,
   "metadata": {},
   "outputs": [
    {
     "output_type": "execute_result",
     "data": {
      "text/plain": [
       "date\n",
       "1     68.726115\n",
       "2     69.442236\n",
       "3     70.059067\n",
       "4     72.357268\n",
       "5     73.680900\n",
       "6     74.944118\n",
       "7     76.082408\n",
       "8     76.412454\n",
       "9     76.164865\n",
       "10    75.391388\n",
       "11    73.252688\n",
       "12    71.041529\n",
       "Name: tobs, dtype: float64"
      ]
     },
     "metadata": {},
     "execution_count": 7
    }
   ],
   "source": [
    "# Filter data for desired months\n",
    "hawaii_groupby = hawaii_df.groupby(by=[hawaii_df.index.month])\n",
    "\n",
    "average_mon_temps = hawaii_groupby['tobs'].mean()\n",
    "\n",
    "average_mon_temps"
   ]
  },
  {
   "cell_type": "code",
   "execution_count": 8,
   "metadata": {},
   "outputs": [
    {
     "output_type": "execute_result",
     "data": {
      "text/plain": [
       "74.94411764705882"
      ]
     },
     "metadata": {},
     "execution_count": 8
    }
   ],
   "source": [
    "# Identify the average temperature for June\n",
    "hawaii_june = average_mon_temps.iloc[5]\n",
    "hawaii_june"
   ]
  },
  {
   "cell_type": "code",
   "execution_count": 9,
   "metadata": {},
   "outputs": [
    {
     "output_type": "execute_result",
     "data": {
      "text/plain": [
       "71.04152933421226"
      ]
     },
     "metadata": {},
     "execution_count": 9
    }
   ],
   "source": [
    "# Identify the average temperature for December\n",
    "hawaii_dec = average_mon_temps.iloc[11]\n",
    "hawaii_dec"
   ]
  },
  {
   "cell_type": "code",
   "execution_count": 22,
   "metadata": {},
   "outputs": [
    {
     "output_type": "execute_result",
     "data": {
      "text/plain": [
       "0       76\n",
       "1       74\n",
       "2       74\n",
       "3       64\n",
       "4       64\n",
       "        ..\n",
       "1495    68\n",
       "1496    68\n",
       "1497    69\n",
       "1498    65\n",
       "1499    70\n",
       "Name: tobs, Length: 1500, dtype: int64"
      ]
     },
     "metadata": {},
     "execution_count": 22
    }
   ],
   "source": [
    "# Create collections of temperature data\n",
    "#Temperatures for the Month of June\n",
    "hawaii_june_temps = hawaii_df.loc[(hawaii_df.index.month == 6) & (hawaii_df.index.day != 30)][\"tobs\"].reset_index(drop=True).head(1500)\n",
    "\n",
    "\n",
    "#Temperatures for the Month of December\n",
    "hawaii_dec_temps = hawaii_df.loc[hawaii_df.index.month == 12][\"tobs\"].reset_index(drop=True).head(1500)"
   ]
  },
  {
   "cell_type": "code",
   "execution_count": 23,
   "metadata": {},
   "outputs": [
    {
     "output_type": "execute_result",
     "data": {
      "text/plain": [
       "Ttest_relResult(statistic=33.41769459538465, pvalue=1.8806302810190305e-183)"
      ]
     },
     "metadata": {},
     "execution_count": 23
    }
   ],
   "source": [
    "# Run paired t-test\n",
    "stats.ttest_rel(hawaii_june_temps, hawaii_dec_temps)"
   ]
  },
  {
   "cell_type": "markdown",
   "metadata": {},
   "source": [
    "### Analysis"
   ]
  },
  {
   "cell_type": "markdown",
   "metadata": {},
   "source": [
    "I chose a paired t-test because they are from the same data set of temperatures from Hawaii with only differnce is the time of the year.  After the ttest was performed a significant diferrence was found. "
   ]
  }
 ],
 "metadata": {
  "kernelspec": {
   "display_name": "Python 3",
   "language": "python",
   "name": "python3"
  },
  "language_info": {
   "codemirror_mode": {
    "name": "ipython",
    "version": 3
   },
   "file_extension": ".py",
   "mimetype": "text/x-python",
   "name": "python",
   "nbconvert_exporter": "python",
   "pygments_lexer": "ipython3",
   "version": "3.8.5-final"
  }
 },
 "nbformat": 4,
 "nbformat_minor": 4
}